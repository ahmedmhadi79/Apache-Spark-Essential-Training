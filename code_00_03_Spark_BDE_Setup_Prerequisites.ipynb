{
 "cells": [
  {
   "cell_type": "markdown",
   "id": "5454dd81-2dae-4a7d-aed0-7756acbcac5c",
   "metadata": {},
   "source": [
    "### Install required packages"
   ]
  },
  {
   "cell_type": "code",
   "execution_count": 2,
   "id": "ec248f35-9b8e-4976-960b-b5a9d54023ff",
   "metadata": {},
   "outputs": [
    {
     "name": "stdout",
     "output_type": "stream",
     "text": [
      "Requirement already satisfied: pyspark==3.5.1 in ./venv/lib/python3.10/site-packages (3.5.1)\n",
      "Requirement already satisfied: py4j==0.10.9.7 in ./venv/lib/python3.10/site-packages (from pyspark==3.5.1) (0.10.9.7)\n",
      "Requirement already satisfied: findspark==2.0.1 in ./venv/lib/python3.10/site-packages (2.0.1)\n",
      "Requirement already satisfied: pandas==2.2.2 in ./venv/lib/python3.10/site-packages (2.2.2)\n",
      "Requirement already satisfied: numpy>=1.22.4 in ./venv/lib/python3.10/site-packages (from pandas==2.2.2) (2.2.6)\n",
      "Requirement already satisfied: python-dateutil>=2.8.2 in ./venv/lib/python3.10/site-packages (from pandas==2.2.2) (2.9.0.post0)\n",
      "Requirement already satisfied: pytz>=2020.1 in ./venv/lib/python3.10/site-packages (from pandas==2.2.2) (2025.2)\n",
      "Requirement already satisfied: tzdata>=2022.7 in ./venv/lib/python3.10/site-packages (from pandas==2.2.2) (2025.2)\n",
      "Requirement already satisfied: six>=1.5 in ./venv/lib/python3.10/site-packages (from python-dateutil>=2.8.2->pandas==2.2.2) (1.17.0)\n",
      "Requirement already satisfied: mariadb==1.1.10 in ./venv/lib/python3.10/site-packages (1.1.10)\n",
      "Requirement already satisfied: packaging in ./venv/lib/python3.10/site-packages (from mariadb==1.1.10) (25.0)\n",
      "Requirement already satisfied: kafka-python==2.0.2 in ./venv/lib/python3.10/site-packages (2.0.2)\n",
      "Requirement already satisfied: redis==5.0.7 in ./venv/lib/python3.10/site-packages (5.0.7)\n",
      "Requirement already satisfied: async-timeout>=4.0.3 in ./venv/lib/python3.10/site-packages (from redis==5.0.7) (5.0.1)\n"
     ]
    }
   ],
   "source": [
    "import os\n",
    "\n",
    "#Install mariadb-connector-C before proceeding here.\n",
    "\n",
    "os.environ[\"PYSPARK_HADOOP_VERSION\"] = \"3\"\n",
    "\n",
    "!pip install pyspark==3.5.1\n",
    "!pip install findspark==2.0.1\n",
    "!pip install pandas==2.2.2\n",
    "!pip install mariadb==1.1.10\n",
    "!pip install kafka-python==2.0.2\n",
    "!pip install redis==5.0.7\n",
    "\n",
    "#In\n",
    "#Set the following environment variables\n",
    "# PYSPARK_PYTHON=\"python\"\n",
    "\n",
    "#JAVA_HOME to Java 17\n",
    "#Add JAVA_HOME to PATH\n",
    "\n",
    "#For Windows only\n",
    "#  1. Copy the hadoop folder under \"exercise-files\" to c:\\hadoop\n",
    "#  2. Add an environment variable HADOOP_HOME=c:\\hadoop\n",
    "#  3. Add c:\\hadoop\\bin to PATH\n",
    "#  4. Close the notebook and the command prompt. Reopen command prompt, restart notebook.\n"
   ]
  },
  {
   "cell_type": "markdown",
   "id": "4bd2f841-4546-4215-ac56-809f94c0f100",
   "metadata": {},
   "source": [
    "### Setup MariaDB"
   ]
  },
  {
   "cell_type": "code",
   "execution_count": 3,
   "id": "01cb4fe2-6121-4fd0-8a7d-eb1b2ef47b67",
   "metadata": {},
   "outputs": [
    {
     "name": "stdout",
     "output_type": "stream",
     "text": [
      "Databases available : ['information_schema', 'mysql', 'performance_schema', 'spark_de', 'sys']\n",
      "Going to create warehouse_stock DB\n",
      "warehouse_stock DB successfully created\n",
      "Going to create global_stock DB\n",
      "globak_stock DB successfully created\n",
      "Going to create website_stats DB\n",
      "website_stats DB successfully created\n",
      "\n",
      "Schema and Tables:\n",
      "-----------------------------\n",
      "website_stats  :  visit_stats\n",
      "warehouse_stock  :  item_stock\n",
      "global_stock  :  item_stock\n"
     ]
    }
   ],
   "source": [
    "import mariadb\n",
    "\n",
    "#Connect to mariadb as root user\n",
    "root_conn = mariadb.connect(\n",
    "                user=\"root\",\n",
    "                password=\"spark\",\n",
    "                host=\"127.0.0.1\",\n",
    "                port=3306,\n",
    "                database=\"mysql\"\n",
    "            )\n",
    "\n",
    "db_cursor = root_conn.cursor()\n",
    "db_cursor.execute(\"SHOW DATABASES\")\n",
    "db_databases = db_cursor.fetchall()\n",
    "\n",
    "db_list=[]\n",
    "for database in db_databases:\n",
    "    db_list.append(database[0])\n",
    "    \n",
    "print(\"Databases available :\", db_list)\n",
    "\n",
    "#Create warehouse_stock database & item_stock table\n",
    "if ( \"warehouse_stock\" in db_list):\n",
    "    print(\"warehouse_stock DB already exists.\")\n",
    "else:\n",
    "    print(\"Going to create warehouse_stock DB\")\n",
    "    #Create DB\n",
    "    db_cursor.execute(\"CREATE DATABASE warehouse_stock\")\n",
    "    #Create table\n",
    "    db_cursor.execute(\"\"\"\n",
    "        CREATE TABLE `warehouse_stock`.`item_stock` (\n",
    "               `ID` INT NULL AUTO_INCREMENT,\n",
    "               `STOCK_DATE` DATETIME NOT NULL, \n",
    "               `WAREHOUSE_ID` VARCHAR(45) NOT NULL,\n",
    "               `ITEM_NAME` VARCHAR(45) NOT NULL,\n",
    "               `OPENING_STOCK` INT NOT NULL DEFAULT 0,\n",
    "               `RECEIPTS` INT  NOT NULL DEFAULT 0,\n",
    "               `ISSUES` INT  NOT NULL DEFAULT 0,\n",
    "               `UNIT_VALUE` DECIMAL(10,2)  NOT NULL DEFAULT 0,\n",
    "               PRIMARY KEY (`ID`),\n",
    "               INDEX `STOCK_DATE` (`STOCK_DATE` ASC));\"\"\")\n",
    "    \n",
    "    #Grant privileges to user spark\n",
    "    db_cursor.execute(\"GRANT ALL PRIVILEGES ON warehouse_stock.* to 'spark'@'%'\")\n",
    "    db_cursor.execute(\"FLUSH PRIVILEGES\")\n",
    "    print(\"warehouse_stock DB successfully created\")\n",
    "\n",
    "#Create global_stock database & item_stock table\n",
    "if ( \"global_stock\" in db_list):\n",
    "    print(\"global_stock DB already exists.\")\n",
    "else:\n",
    "    print(\"Going to create global_stock DB\")\n",
    "    #Create DB\n",
    "    db_cursor.execute(\"CREATE DATABASE global_stock\")\n",
    "    #Create table\n",
    "    db_cursor.execute(\"\"\"\n",
    "        CREATE TABLE `global_stock`.`item_stock` (\n",
    "                `ID` INT NULL AUTO_INCREMENT,\n",
    "                `STOCK_DATE` DATETIME NOT NULL,\n",
    "                `ITEM_NAME` VARCHAR(45) NOT NULL,\n",
    "                `TOTAL_REC` INT NOT NULL DEFAULT 0,\n",
    "                `OPENING_STOCK` INT NOT NULL DEFAULT 0,\n",
    "                `RECEIPTS` INT  NOT NULL DEFAULT 0,\n",
    "                `ISSUES` INT  NOT NULL DEFAULT 0,\n",
    "                `CLOSING_STOCK` INT NOT NULL DEFAULT 0,\n",
    "                `CLOSING_VALUE` DECIMAL(10,2)  NOT NULL DEFAULT 0,\n",
    "                PRIMARY KEY (`ID`),\n",
    "                INDEX `STOCK_DATE` (`STOCK_DATE` ASC));\"\"\")\n",
    "    \n",
    "    #Grant privileges to user spark\n",
    "    db_cursor.execute(\"GRANT ALL PRIVILEGES ON global_stock.* to 'spark'@'%'\")\n",
    "    db_cursor.execute(\"FLUSH PRIVILEGES\")\n",
    "    print(\"globak_stock DB successfully created\")\n",
    "\n",
    "#Create website_stats database & visit_stats table\n",
    "if ( \"website_stats\" in db_list):\n",
    "    print(\"website_stats DB already exists.\")\n",
    "else:\n",
    "    print(\"Going to create website_stats DB\")\n",
    "    #Create DB\n",
    "    db_cursor.execute(\"CREATE DATABASE website_stats\")\n",
    "    #Create table\n",
    "    db_cursor.execute(\"\"\"\n",
    "       CREATE TABLE `website_stats`.`visit_stats` (\n",
    "                `ID` int(11) NOT NULL AUTO_INCREMENT, \n",
    "                `INTERVAL_TIMESTAMP` DATETIME DEFAULT NULL,\n",
    "                `LAST_ACTION` varchar(45) DEFAULT NULL,\n",
    "                `DURATION` int(10) DEFAULT NULL, \n",
    "                PRIMARY KEY (`ID`));\"\"\")\n",
    "    \n",
    "    #Grant privileges to user spark\n",
    "    db_cursor.execute(\"GRANT ALL PRIVILEGES ON website_stats.* to 'spark'@'%'\")\n",
    "    db_cursor.execute(\"FLUSH PRIVILEGES\")\n",
    "    print(\"website_stats DB successfully created\")\n",
    "\n",
    "\n",
    "#Check if tables are created\n",
    "db_cursor.execute(\"\"\"\n",
    "    SELECT TABLE_SCHEMA, TABLE_NAME\n",
    "    FROM information_schema.tables\n",
    "    WHERE table_schema IN ('warehouse_stock','global_stock','website_stats')\n",
    "    \"\"\")\n",
    "\n",
    "\n",
    "\n",
    "print(\"\\nSchema and Tables:\\n-----------------------------\")\n",
    "for schema, table in db_cursor:\n",
    "    print(schema,\" : \", table)\n",
    "\n",
    "    "
   ]
  },
  {
   "cell_type": "code",
   "execution_count": 4,
   "id": "780799ef",
   "metadata": {},
   "outputs": [],
   "source": [
    "db_cursor.execute(\"SHOW DATABASES\")"
   ]
  },
  {
   "cell_type": "code",
   "execution_count": 5,
   "id": "4b5322c2",
   "metadata": {},
   "outputs": [],
   "source": [
    "db_databases = db_cursor.fetchall()\n",
    "\n",
    "db_list = []\n",
    "for database in db_databases:\n",
    "    db_list.append(database[0])"
   ]
  },
  {
   "cell_type": "code",
   "execution_count": 6,
   "id": "44208a6f",
   "metadata": {},
   "outputs": [
    {
     "data": {
      "text/plain": [
       "['global_stock',\n",
       " 'information_schema',\n",
       " 'mysql',\n",
       " 'performance_schema',\n",
       " 'spark_de',\n",
       " 'sys',\n",
       " 'warehouse_stock',\n",
       " 'website_stats']"
      ]
     },
     "execution_count": 6,
     "metadata": {},
     "output_type": "execute_result"
    }
   ],
   "source": [
    "db_list"
   ]
  },
  {
   "cell_type": "markdown",
   "id": "623511ad-c3e6-4827-b949-690b8335a959",
   "metadata": {},
   "source": [
    "### Setup Kafka Topics"
   ]
  },
  {
   "cell_type": "code",
   "execution_count": 10,
   "id": "8254c901-cead-47ad-ac81-65f8deee21d8",
   "metadata": {},
   "outputs": [
    {
     "ename": "NoBrokersAvailable",
     "evalue": "NoBrokersAvailable",
     "output_type": "error",
     "traceback": [
      "\u001b[0;31m---------------------------------------------------------------------------\u001b[0m",
      "\u001b[0;31mNoBrokersAvailable\u001b[0m                        Traceback (most recent call last)",
      "Cell \u001b[0;32mIn[10], line 4\u001b[0m\n\u001b[1;32m      1\u001b[0m \u001b[38;5;28;01mfrom\u001b[39;00m\u001b[38;5;250m \u001b[39m\u001b[38;5;21;01mkafka\u001b[39;00m\u001b[38;5;21;01m.\u001b[39;00m\u001b[38;5;21;01madmin\u001b[39;00m\u001b[38;5;250m \u001b[39m\u001b[38;5;28;01mimport\u001b[39;00m KafkaAdminClient, NewTopic\n\u001b[1;32m      2\u001b[0m \u001b[38;5;28;01mfrom\u001b[39;00m\u001b[38;5;250m \u001b[39m\u001b[38;5;21;01mkafka\u001b[39;00m\u001b[38;5;250m \u001b[39m\u001b[38;5;28;01mimport\u001b[39;00m KafkaConsumer\n\u001b[0;32m----> 4\u001b[0m consumer\u001b[38;5;241m=\u001b[39m\u001b[43mKafkaConsumer\u001b[49m\u001b[43m(\u001b[49m\n\u001b[1;32m      5\u001b[0m \u001b[43m                \u001b[49m\u001b[43mgroup_id\u001b[49m\u001b[38;5;241;43m=\u001b[39;49m\u001b[38;5;124;43m\"\u001b[39;49m\u001b[38;5;124;43msetup\u001b[39;49m\u001b[38;5;124;43m\"\u001b[39;49m\u001b[43m,\u001b[49m\n\u001b[1;32m      6\u001b[0m \u001b[43m                \u001b[49m\u001b[43mbootstrap_servers\u001b[49m\u001b[38;5;241;43m=\u001b[39;49m\u001b[38;5;124;43m\"\u001b[39;49m\u001b[38;5;124;43mlocalhost:9092\u001b[39;49m\u001b[38;5;124;43m\"\u001b[39;49m\u001b[43m \u001b[49m\u001b[43m)\u001b[49m\n\u001b[1;32m      8\u001b[0m \u001b[38;5;28;01mif\u001b[39;00m \u001b[38;5;124m\"\u001b[39m\u001b[38;5;124mspark.streaming.website.visits\u001b[39m\u001b[38;5;124m\"\u001b[39m \u001b[38;5;129;01mnot\u001b[39;00m \u001b[38;5;129;01min\u001b[39;00m consumer\u001b[38;5;241m.\u001b[39mtopics():\n\u001b[1;32m     10\u001b[0m     admin_client \u001b[38;5;241m=\u001b[39m KafkaAdminClient(\n\u001b[1;32m     11\u001b[0m                     bootstrap_servers\u001b[38;5;241m=\u001b[39m\u001b[38;5;124m\"\u001b[39m\u001b[38;5;124mlocalhost:9092\u001b[39m\u001b[38;5;124m\"\u001b[39m, \n\u001b[1;32m     12\u001b[0m                     client_id\u001b[38;5;241m=\u001b[39m\u001b[38;5;124m'\u001b[39m\u001b[38;5;124mspark-de\u001b[39m\u001b[38;5;124m'\u001b[39m)\n",
      "File \u001b[0;32m~/Apache-Spark-Essential-Training/venv/lib/python3.10/site-packages/kafka/consumer/group.py:356\u001b[0m, in \u001b[0;36mKafkaConsumer.__init__\u001b[0;34m(self, *topics, **configs)\u001b[0m\n\u001b[1;32m    352\u001b[0m         \u001b[38;5;28mself\u001b[39m\u001b[38;5;241m.\u001b[39mconfig[\u001b[38;5;124m'\u001b[39m\u001b[38;5;124mapi_version\u001b[39m\u001b[38;5;124m'\u001b[39m] \u001b[38;5;241m=\u001b[39m \u001b[38;5;28mtuple\u001b[39m(\u001b[38;5;28mmap\u001b[39m(\u001b[38;5;28mint\u001b[39m, str_version\u001b[38;5;241m.\u001b[39msplit(\u001b[38;5;124m'\u001b[39m\u001b[38;5;124m.\u001b[39m\u001b[38;5;124m'\u001b[39m)))\n\u001b[1;32m    353\u001b[0m     log\u001b[38;5;241m.\u001b[39mwarning(\u001b[38;5;124m'\u001b[39m\u001b[38;5;124muse api_version=\u001b[39m\u001b[38;5;132;01m%s\u001b[39;00m\u001b[38;5;124m [tuple] -- \u001b[39m\u001b[38;5;124m\"\u001b[39m\u001b[38;5;132;01m%s\u001b[39;00m\u001b[38;5;124m\"\u001b[39m\u001b[38;5;124m as str is deprecated\u001b[39m\u001b[38;5;124m'\u001b[39m,\n\u001b[1;32m    354\u001b[0m                 \u001b[38;5;28mstr\u001b[39m(\u001b[38;5;28mself\u001b[39m\u001b[38;5;241m.\u001b[39mconfig[\u001b[38;5;124m'\u001b[39m\u001b[38;5;124mapi_version\u001b[39m\u001b[38;5;124m'\u001b[39m]), str_version)\n\u001b[0;32m--> 356\u001b[0m \u001b[38;5;28mself\u001b[39m\u001b[38;5;241m.\u001b[39m_client \u001b[38;5;241m=\u001b[39m \u001b[43mKafkaClient\u001b[49m\u001b[43m(\u001b[49m\u001b[43mmetrics\u001b[49m\u001b[38;5;241;43m=\u001b[39;49m\u001b[38;5;28;43mself\u001b[39;49m\u001b[38;5;241;43m.\u001b[39;49m\u001b[43m_metrics\u001b[49m\u001b[43m,\u001b[49m\u001b[43m \u001b[49m\u001b[38;5;241;43m*\u001b[39;49m\u001b[38;5;241;43m*\u001b[39;49m\u001b[38;5;28;43mself\u001b[39;49m\u001b[38;5;241;43m.\u001b[39;49m\u001b[43mconfig\u001b[49m\u001b[43m)\u001b[49m\n\u001b[1;32m    358\u001b[0m \u001b[38;5;66;03m# Get auto-discovered version from client if necessary\u001b[39;00m\n\u001b[1;32m    359\u001b[0m \u001b[38;5;28;01mif\u001b[39;00m \u001b[38;5;28mself\u001b[39m\u001b[38;5;241m.\u001b[39mconfig[\u001b[38;5;124m'\u001b[39m\u001b[38;5;124mapi_version\u001b[39m\u001b[38;5;124m'\u001b[39m] \u001b[38;5;129;01mis\u001b[39;00m \u001b[38;5;28;01mNone\u001b[39;00m:\n",
      "File \u001b[0;32m~/Apache-Spark-Essential-Training/venv/lib/python3.10/site-packages/kafka/client_async.py:244\u001b[0m, in \u001b[0;36mKafkaClient.__init__\u001b[0;34m(self, **configs)\u001b[0m\n\u001b[1;32m    242\u001b[0m \u001b[38;5;28;01mif\u001b[39;00m \u001b[38;5;28mself\u001b[39m\u001b[38;5;241m.\u001b[39mconfig[\u001b[38;5;124m'\u001b[39m\u001b[38;5;124mapi_version\u001b[39m\u001b[38;5;124m'\u001b[39m] \u001b[38;5;129;01mis\u001b[39;00m \u001b[38;5;28;01mNone\u001b[39;00m:\n\u001b[1;32m    243\u001b[0m     check_timeout \u001b[38;5;241m=\u001b[39m \u001b[38;5;28mself\u001b[39m\u001b[38;5;241m.\u001b[39mconfig[\u001b[38;5;124m'\u001b[39m\u001b[38;5;124mapi_version_auto_timeout_ms\u001b[39m\u001b[38;5;124m'\u001b[39m] \u001b[38;5;241m/\u001b[39m \u001b[38;5;241m1000\u001b[39m\n\u001b[0;32m--> 244\u001b[0m     \u001b[38;5;28mself\u001b[39m\u001b[38;5;241m.\u001b[39mconfig[\u001b[38;5;124m'\u001b[39m\u001b[38;5;124mapi_version\u001b[39m\u001b[38;5;124m'\u001b[39m] \u001b[38;5;241m=\u001b[39m \u001b[38;5;28;43mself\u001b[39;49m\u001b[38;5;241;43m.\u001b[39;49m\u001b[43mcheck_version\u001b[49m\u001b[43m(\u001b[49m\u001b[43mtimeout\u001b[49m\u001b[38;5;241;43m=\u001b[39;49m\u001b[43mcheck_timeout\u001b[49m\u001b[43m)\u001b[49m\n",
      "File \u001b[0;32m~/Apache-Spark-Essential-Training/venv/lib/python3.10/site-packages/kafka/client_async.py:900\u001b[0m, in \u001b[0;36mKafkaClient.check_version\u001b[0;34m(self, node_id, timeout, strict)\u001b[0m\n\u001b[1;32m    898\u001b[0m \u001b[38;5;28;01mif\u001b[39;00m try_node \u001b[38;5;129;01mis\u001b[39;00m \u001b[38;5;28;01mNone\u001b[39;00m:\n\u001b[1;32m    899\u001b[0m     \u001b[38;5;28mself\u001b[39m\u001b[38;5;241m.\u001b[39m_lock\u001b[38;5;241m.\u001b[39mrelease()\n\u001b[0;32m--> 900\u001b[0m     \u001b[38;5;28;01mraise\u001b[39;00m Errors\u001b[38;5;241m.\u001b[39mNoBrokersAvailable()\n\u001b[1;32m    901\u001b[0m \u001b[38;5;28mself\u001b[39m\u001b[38;5;241m.\u001b[39m_maybe_connect(try_node)\n\u001b[1;32m    902\u001b[0m conn \u001b[38;5;241m=\u001b[39m \u001b[38;5;28mself\u001b[39m\u001b[38;5;241m.\u001b[39m_conns[try_node]\n",
      "\u001b[0;31mNoBrokersAvailable\u001b[0m: NoBrokersAvailable"
     ]
    }
   ],
   "source": [
    "\n",
    "from kafka.admin import KafkaAdminClient, NewTopic\n",
    "from kafka import KafkaConsumer\n",
    "\n",
    "consumer=KafkaConsumer(\n",
    "                group_id=\"setup\",\n",
    "                bootstrap_servers=\"localhost:9092\" )\n",
    "\n",
    "if \"spark.streaming.website.visits\" not in consumer.topics():\n",
    "\n",
    "    admin_client = KafkaAdminClient(\n",
    "                    bootstrap_servers=\"localhost:9092\", \n",
    "                    client_id='spark-de')\n",
    "    \n",
    "    topic_list = [\n",
    "        NewTopic(name=\"spark.streaming.website.visits\", \n",
    "                 num_partitions=1, replication_factor=1),\n",
    "        NewTopic(name=\"spark.streaming.carts.abandoned\", \n",
    "                 num_partitions=1, replication_factor=1),\n",
    "        NewTopic(name=\"spark.exercise.lastaction.long\", \n",
    "                 num_partitions=1, replication_factor=1)\n",
    "    ]\n",
    "\n",
    "    print(\"Creating topics...\")\n",
    "    result=admin_client.create_topics(new_topics=topic_list, validate_only=False)\n",
    "\n",
    "print(\"Topics available now :\\n--------------------------------\")\n",
    "for topic in consumer.topics():\n",
    "    print(topic)\n"
   ]
  },
  {
   "cell_type": "markdown",
   "id": "90edeb0b-17b1-470e-a215-bf0dd733a559",
   "metadata": {},
   "source": [
    "### Create a raw data folder to represent a distributed file system"
   ]
  },
  {
   "cell_type": "code",
   "execution_count": 7,
   "id": "f33befba-98c6-4fb7-8a39-06002ffcf79a",
   "metadata": {},
   "outputs": [],
   "source": [
    "import os\n",
    "os.makedirs(\"./raw_data\",exist_ok=True)"
   ]
  },
  {
   "cell_type": "code",
   "execution_count": 8,
   "id": "6ceabd50-2599-4f29-bc60-3204b404c0cd",
   "metadata": {},
   "outputs": [
    {
     "name": "stdout",
     "output_type": "stream",
     "text": [
      "/Library/Java/JavaVirtualMachines/jdk-17.jdk/Contents/Home\n",
      "/opt/anaconda3/envs/spark/bin:/opt/anaconda3/condabin:/usr/local/bin:/System/Cryptexes/App/usr/bin:/usr/bin:/bin:/usr/sbin:/sbin:/var/run/com.apple.security.cryptexd/codex.system/bootstrap/usr/local/bin:/var/run/com.apple.security.cryptexd/codex.system/bootstrap/usr/bin:/var/run/com.apple.security.cryptexd/codex.system/bootstrap/usr/appleinternal/bin:/opt/homebrew/bin:/usr/local/Homebrew/bin:/opt/stdlibs/homebrew\n"
     ]
    }
   ],
   "source": [
    "#Check if JAVA_HOME is set to Java 1.17\n",
    "print(os.environ[\"JAVA_HOME\"])\n",
    "\n",
    "#Check if HADOOP_HOME is set, needed for windows only\n",
    "#print(os.environ[\"HADOOP_HOME\"])\n",
    "\n",
    "#Check if JAVA_HOME & HADOOP_HOME (windows only) are in the PATH\n",
    "print(os.environ[\"PATH\"])"
   ]
  },
  {
   "cell_type": "code",
   "execution_count": null,
   "id": "6da776ca-374f-4a29-95d2-764bce61f493",
   "metadata": {},
   "outputs": [],
   "source": []
  }
 ],
 "metadata": {
  "kernelspec": {
   "display_name": "venv",
   "language": "python",
   "name": "python3"
  },
  "language_info": {
   "codemirror_mode": {
    "name": "ipython",
    "version": 3
   },
   "file_extension": ".py",
   "mimetype": "text/x-python",
   "name": "python",
   "nbconvert_exporter": "python",
   "pygments_lexer": "ipython3",
   "version": "3.10.10"
  }
 },
 "nbformat": 4,
 "nbformat_minor": 5
}
